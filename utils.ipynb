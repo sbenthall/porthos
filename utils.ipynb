{
 "metadata": {
  "name": "utils"
 }, 
 "nbformat": 2, 
 "worksheets": [
  {
   "cells": [
    {
     "cell_type": "code", 
     "collapsed": true, 
     "input": [
      "from __future__ import print_function, division", 
      "from pprint import pprint", 
      "import tarfile", 
      "import ujson", 
      "import re", 
      "from url_detector import replaceURLs", 
      "import sys", 
      "import cPickle", 
      "#from language_detector import guess", 
      "#reload(url_detector)"
     ], 
     "language": "python", 
     "outputs": [], 
     "prompt_number": 17
    }, 
    {
     "cell_type": "code", 
     "collapsed": true, 
     "input": [
      "pAt=re.compile(r\"\\@\\w+\")", 
      "extras=re.compile(r\"[0-9\\#\\=\\?\\!\\(\\)\\\\\\/\\>\\<\\_\\@\\$\\^\\&\\%\\`\\~\\+\\]\\[\\}\\{]+\")", 
      "", 
      "def process_raw_text(text):", 
      "    return extras.sub('', pAt.sub('', replaceURLs('', text)))"
     ], 
     "language": "python", 
     "outputs": [], 
     "prompt_number": 3
    }, 
    {
     "cell_type": "code", 
     "collapsed": true, 
     "input": [
      "label=dict()", 
      "with open('sample_index.txt', 'r') as index:", 
      "    for line in index:", 
      "        if line[-10:-5]=='tweet':", 
      "            label[line[-43:-11]]=int(line[0])"
     ], 
     "language": "python", 
     "outputs": [], 
     "prompt_number": 3
    }, 
    {
     "cell_type": "code", 
     "collapsed": true, 
     "input": [
      "tar=tarfile.open('sample.tar')", 
      "", 
      "files=dict()", 
      "i=0", 
      "for tarinfo in tar:", 
      "    if tarinfo.name[-9:-4]=='tweet':", 
      "        try:", 
      "            data=ujson.loads(tar.extractfile(tarinfo).read())", 
      "            pprint(data['windows'].keys())", 
      "            break", 
      "            lang=data['tweet']['fulltweet']['user']['lang']", 
      "            raw=data['tweet']['fulltweet']['text']", 
      "            clean=process_raw_text(raw)", 
      "            lang2=guess(clean.lower().encode('utf8'))", 
      "            files[tarinfo.name[-42:-10]]=(lang2[0][0], raw)", 
      "            #print(lang, lang2[0][0], clean)", 
      "            if i%1000 ==0:", 
      "                print(i, end=' ', file=sys.stderr)", 
      "            i+=1", 
      "        except:", 
      "            break", 
      "            print(\"Oops\", tarinfo.name, file=sys.stderr)", 
      "", 
      "#import cPickle", 
      "#cPickle.dump((label, files), open('raw_tweets.db', 'w'))"
     ], 
     "language": "python", 
     "outputs": [], 
     "prompt_number": 1
    }, 
    {
     "cell_type": "markdown", 
     "source": [
      "Conversion after the fact"
     ]
    }, 
    {
     "cell_type": "code", 
     "collapsed": true, 
     "input": [
      "label, files=cPickle.load(open('raw_tweets.db', 'r'))"
     ], 
     "language": "python", 
     "outputs": [], 
     "prompt_number": 2
    }, 
    {
     "cell_type": "code", 
     "collapsed": true, 
     "input": [
      "data=dict()", 
      "for id in label:", 
      "    if id not in files:", 
      "        print(\"Missing\", id)", 
      "        continue", 
      "    data[id]=dict()", 
      "    data[id]['lang']=files[id][0]", 
      "    data[id]['raw']=files[id][1]", 
      "    data[id]['clean']=process_raw_text(files[id][1]).replace('\\'', '')", 
      "    data[id]['label']=label[id]"
     ], 
     "language": "python", 
     "outputs": [], 
     "prompt_number": 7
    }, 
    {
     "cell_type": "code", 
     "collapsed": true, 
     "input": [
      "cPickle.dump(data, open('data-all.db', 'w'))"
     ], 
     "language": "python", 
     "outputs": [], 
     "prompt_number": 8
    }, 
    {
     "cell_type": "code", 
     "collapsed": true, 
     "input": [
      "import lxml.html as lh", 
      "import urllib2", 
      "from lxml.html.clean import Cleaner", 
      "import re", 
      "", 
      "p=re.compile(r\"[a-zA-Z]+\")", 
      "doc=lh.fromstring(data['windows'][0]['html'])", 
      "p.findall(doc.text_content().replace(\"'\", ''))", 
      "#doc.text_content().replace(\"'\", '')", 
      "", 
      "#cleaner=Cleaner()", 
      "#path = '/html/body'", 
      "#body = doc.xpath(path)[0]", 
      "", 
      "#cleaner.clean_html(body).text_content()"
     ], 
     "language": "python", 
     "outputs": [], 
     "prompt_number": 20
    }, 
    {
     "cell_type": "code", 
     "collapsed": true, 
     "input": [
      "import cPickle", 
      "from zlib import decompress"
     ], 
     "language": "python", 
     "outputs": [], 
     "prompt_number": 3
    }, 
    {
     "cell_type": "code", 
     "collapsed": true, 
     "input": [
      "html=cPickle.load(open('html.db', 'r'))"
     ], 
     "language": "python", 
     "outputs": [], 
     "prompt_number": 2
    }, 
    {
     "cell_type": "code", 
     "collapsed": false, 
     "input": [
      "html.keys()[:10]"
     ], 
     "language": "python", 
     "outputs": [], 
     "prompt_number": 4
    }, 
    {
     "cell_type": "code", 
     "collapsed": false, 
     "input": [
      "i=0", 
      "c={}", 
      "for key in html:", 
      "    if len(html[key]) > 0:", 
      "        for comp in html[key]:", 
      "            h=comp", 
      "            if h not in c:", 
      "                c[h]=0", 
      "            c[h]+=1", 
      "    if i%1000==0:", 
      "        print(i)", 
      "    i+=1"
     ], 
     "language": "python", 
     "outputs": [], 
     "prompt_number": 50
    }, 
    {
     "cell_type": "code", 
     "collapsed": false, 
     "input": [
      "numerous={}", 
      "for comp in c:", 
      "    if c[comp] > 100:", 
      "        numerous[c[comp]]=decompress(comp)"
     ], 
     "language": "python", 
     "outputs": [], 
     "prompt_number": 63
    }, 
    {
     "cell_type": "code", 
     "collapsed": false, 
     "input": [
      "from text_processing import twochars"
     ], 
     "language": "python", 
     "outputs": [], 
     "prompt_number": 65
    }, 
    {
     "cell_type": "code", 
     "collapsed": false, 
     "input": [
      "def to_bow(text, to_keep=to_keep):", 
      "    bag={}", 
      "    for w in twochars.findall(text.replace(\"'\", '')):", 
      "        if w in to_keep:", 
      "            if w not in bag:", 
      "                bag[w]=0", 
      "            bag[w]+=1", 
      "    return bag"
     ], 
     "language": "python", 
     "outputs": [], 
     "prompt_number": 212
    }, 
    {
     "cell_type": "code", 
     "collapsed": false, 
     "input": [
      "bow={} #can not fit into memory...", 
      "for key in html:", 
      "    for comp in html[key]:", 
      "        bag=to_bow(decompress(comp))", 
      "        if len(bag)>0:", 
      "            if key not in bow:", 
      "                bow[key]=[]", 
      "            bow[key].append(bag)"
     ], 
     "language": "python", 
     "outputs": [], 
     "prompt_number": 213
    }, 
    {
     "cell_type": "code", 
     "collapsed": false, 
     "input": [
      "counts={}", 
      "for key in html:", 
      "    for comp in html[key]:", 
      "        bag=to_bow(decompress(comp))", 
      "        for w in bag:", 
      "            if w not in counts:", 
      "                counts[w]=0", 
      "            counts[w]+=bag[w]", 
      "", 
      "terms=counts.keys()", 
      "terms.sort(key=lambda x: counts[x])"
     ], 
     "language": "python", 
     "outputs": [], 
     "prompt_number": 80
    }, 
    {
     "cell_type": "code", 
     "collapsed": false, 
     "input": [
      "for i in range(0,100):", 
      "    print(i, counts[terms[-i]], terms[-i])"
     ], 
     "language": "python", 
     "outputs": [], 
     "prompt_number": 189
    }, 
    {
     "cell_type": "code", 
     "collapsed": false, 
     "input": [
      "counts[terms[860000]]"
     ], 
     "language": "python", 
     "outputs": [], 
     "prompt_number": 208
    }, 
    {
     "cell_type": "code", 
     "collapsed": false, 
     "input": [
      "terms[860000]"
     ], 
     "language": "python", 
     "outputs": [], 
     "prompt_number": 209
    }, 
    {
     "cell_type": "code", 
     "collapsed": true, 
     "input": [
      "to_keep=set()", 
      "for t in counts:", 
      "    if counts[t]>=5:", 
      "        to_keep.add(t)"
     ], 
     "language": "python", 
     "outputs": [], 
     "prompt_number": 210
    }, 
    {
     "cell_type": "code", 
     "collapsed": false, 
     "input": [
      "i2w=dict()", 
      "w2i=dict()", 
      "i=0", 
      "for t in terms:", 
      "    if t in to_keep:", 
      "        i2w[i]=t", 
      "        w2i[t]=i", 
      "        i+=1"
     ], 
     "language": "python", 
     "outputs": [], 
     "prompt_number": 220
    }, 
    {
     "cell_type": "code", 
     "collapsed": false, 
     "input": [
      "cPickle.dump((i2w, w2i), open('i2w-w2i.db', 'w'))"
     ], 
     "language": "python", 
     "outputs": [], 
     "prompt_number": 222
    }, 
    {
     "cell_type": "code", 
     "collapsed": false, 
     "input": [
      "w2i['']"
     ], 
     "language": "python", 
     "outputs": [
      {
       "output_type": "pyout", 
       "prompt_number": 243, 
       "text": [
        "382"
       ]
      }
     ], 
     "prompt_number": 243
    }, 
    {
     "cell_type": "code", 
     "collapsed": true, 
     "input": [], 
     "language": "python", 
     "outputs": [], 
     "prompt_number": "&nbsp;"
    }
   ]
  }
 ]
}