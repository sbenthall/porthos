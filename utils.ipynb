{
 "metadata": {
  "name": "utils"
 }, 
 "nbformat": 2, 
 "worksheets": [
  {
   "cells": [
    {
     "cell_type": "code", 
     "collapsed": true, 
     "input": [
      "from __future__ import print_function, division", 
      "from pprint import pprint", 
      "import tarfile", 
      "import ujson", 
      "import re", 
      "from url_detector import replaceURLs", 
      "import sys", 
      "import cPickle", 
      "#from language_detector import guess", 
      "#reload(url_detector)"
     ], 
     "language": "python", 
     "outputs": [], 
     "prompt_number": 5
    }, 
    {
     "cell_type": "code", 
     "collapsed": true, 
     "input": [
      "pAt=re.compile(r\"\\@\\w+\")", 
      "extras=re.compile(r\"[0-9\\#\\=\\?\\!\\(\\)\\\\\\/\\>\\<\\_\\@\\$\\^\\&\\%\\`\\~\\+\\]\\[\\}\\{]+\")", 
      "", 
      "def process_raw_text(text):", 
      "    return extras.sub('', pAt.sub('', replaceURLs('', text)))"
     ], 
     "language": "python", 
     "outputs": [], 
     "prompt_number": 6
    }, 
    {
     "cell_type": "code", 
     "collapsed": true, 
     "input": [
      "label=dict()", 
      "with open('sample_index.txt', 'r') as index:", 
      "    for line in index:", 
      "        if line[-10:-5]=='tweet':", 
      "            label[line[-43:-11]]=int(line[0])"
     ], 
     "language": "python", 
     "outputs": [], 
     "prompt_number": 3
    }, 
    {
     "cell_type": "code", 
     "collapsed": false, 
     "input": [
      "tar=tarfile.open('sample.tar')", 
      "", 
      "files=dict()", 
      "i=0", 
      "for tarinfo in tar:", 
      "    if tarinfo.name[-9:-4]=='tweet':", 
      "        try:", 
      "            data=ujson.loads(tar.extractfile(tarinfo).read())", 
      "            lang=data['tweet']['fulltweet']['user']['lang']", 
      "            raw=data['tweet']['fulltweet']['text']", 
      "            clean=process_raw_text(raw)", 
      "            lang2=guess(clean.lower().encode('utf8'))", 
      "            files[tarinfo.name[-42:-10]]=(lang2[0][0], raw)", 
      "            #print(lang, lang2[0][0], clean)", 
      "            if i%1000 ==0:", 
      "                print(i, end=' ', file=sys.stderr)", 
      "            i+=1", 
      "        except:", 
      "            print(\"Oops\", tarinfo.name, file=sys.stderr)", 
      "", 
      "import cPickle", 
      "cPickle.dump((label, files), open('raw_tweets.db', 'w'))"
     ], 
     "language": "python", 
     "outputs": [], 
     "prompt_number": "*"
    }, 
    {
     "cell_type": "markdown", 
     "source": [
      "Conversion after the fact"
     ]
    }, 
    {
     "cell_type": "code", 
     "collapsed": true, 
     "input": [
      "label, files=cPickle.load(open('raw_tweets.db', 'r'))"
     ], 
     "language": "python", 
     "outputs": [], 
     "prompt_number": 7
    }, 
    {
     "cell_type": "code", 
     "collapsed": false, 
     "input": [
      "data=dict()", 
      "for id in label:", 
      "    data[id]=dict()", 
      "    if id not in files:", 
      "        print(\"Missing\", id)", 
      "        continue", 
      "    data[id]['lang']=files[id][0]", 
      "    data[id]['raw']=files[id][1]", 
      "    data[id]['clean']=process_raw_text(files[id][1]).replace('\\'', '')"
     ], 
     "language": "python", 
     "outputs": [], 
     "prompt_number": 8
    }, 
    {
     "cell_type": "code", 
     "collapsed": false, 
     "input": [
      "cPickle.dump(data, open('data-all.pk', 'w'))"
     ], 
     "language": "python", 
     "outputs": [], 
     "prompt_number": 10
    }, 
    {
     "cell_type": "code", 
     "collapsed": true, 
     "input": [], 
     "language": "python", 
     "outputs": [], 
     "prompt_number": "&nbsp;"
    }
   ]
  }
 ]
}