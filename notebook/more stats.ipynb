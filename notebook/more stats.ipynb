{
 "metadata": {
  "name": "more stats"
 }, 
 "nbformat": 2, 
 "worksheets": [
  {
   "cells": [
    {
     "cell_type": "code", 
     "collapsed": true, 
     "input": [
      "from __future__ import print_function, division", 
      "import sys, re, ujson, tarfile", 
      "sys.path.append(\"../\")", 
      "import cPickle", 
      "import gensim", 
      "import re", 
      "import text_processing", 
      "stopwords=text_processing.stopwords", 
      "from text_processing import to_bow", 
      "from zlib import decompress", 
      "from matplotlib.ticker import MultipleLocator, FormatStrFormatter"
     ], 
     "language": "python", 
     "outputs": [], 
     "prompt_number": 87
    }, 
    {
     "cell_type": "code", 
     "collapsed": true, 
     "input": [
      "i2w, w2i = cPickle.load(open('../data/i2w-w2i.db','r'))", 
      "#html=cPickle.load(open('../data/html.db', 'r'))", 
      "tweets=cPickle.load(open('../data/tweets+.db', 'r'))"
     ], 
     "language": "python", 
     "outputs": [], 
     "prompt_number": 2
    }, 
    {
     "cell_type": "code", 
     "collapsed": false, 
     "input": [
      "clean=[]", 
      "full=[]", 
      "for key in tweets:", 
      "    if tweets[key]['lang_infered'] == 'en':", 
      "        words = ' '.join([x[0] for x in to_bow(tweets[key]['text_clean'], w2i).items() if x[0] not in stopwords])", 
      "        clean.append(len(words))", 
      "        full.append(len(tweets[key]['text_original_u']))"
     ], 
     "language": "python", 
     "outputs": [], 
     "prompt_number": 15
    }, 
    {
     "cell_type": "code", 
     "collapsed": false, 
     "input": [
      "figure()", 
      "plot(sorted(clean), arange(len(clean))/len(clean), '-', color='g', label= 'filtered content')", 
      "plot(sorted(full), arange(len(full))/len(full), '-', color='b', label='full content')", 
      "grid()", 
      "xlabel('Number of characters')", 
      "ylabel('Proportion')", 
      "legend(loc=2)", 
      "savefig('cdf_en_content_length.eps' , bbox_inches='tight')"
     ], 
     "language": "python", 
     "outputs": [], 
     "prompt_number": 98
    }, 
    {
     "cell_type": "code", 
     "collapsed": false, 
     "input": [
      "count_lang_i=dict()", 
      "count_lang_t=dict()", 
      "for key in tweets:", 
      "    li=tweets[key]['lang_infered']", 
      "    lt=tweets[key]['lang_tweeter']", 
      "    if li not in count_lang_i:", 
      "        count_lang_i[li]=0", 
      "    count_lang_i[li]+=1", 
      "    if lt not in count_lang_t:", 
      "        count_lang_t[lt]=0", 
      "    count_lang_t[lt]+=1"
     ], 
     "language": "python", 
     "outputs": [], 
     "prompt_number": 37
    }, 
    {
     "cell_type": "code", 
     "collapsed": false, 
     "input": [
      "tlang=array(count_lang_t.keys())", 
      "tcounts=array(count_lang_t.values())", 
      "ix=argsort(tcounts)[::-1]", 
      "tlang=tlang[ix]", 
      "tcounts=tcounts[ix]", 
      "explode=[0.05]+[0]*5", 
      "# make a square figure and axes", 
      "figure(1, figsize=(6,6))", 
      "ax = axes([0.1, 0.1, 0.8, 0.8])", 
      "pie(tcounts, explode= explode, labels=tlang, autopct='%1.f%%', shadow=False)", 
      "savefig(\"lang_twitter.eps\", bbox_inches='tight')"
     ], 
     "language": "python", 
     "outputs": [], 
     "prompt_number": 97
    }, 
    {
     "cell_type": "code", 
     "collapsed": false, 
     "input": [
      "other=['taga', 'swe', 'dut', 'ru', 'it', 'cn', 'fin', 'gre', 'esper', 'latin']", 
      "count_type=dict()", 
      "count_type['other']=dict()", 
      "for key in tweets:", 
      "    l=tweets[key]['lang_infered']", 
      "    s=tweets[key]['label']", 
      "    if l in other:", 
      "        d=count_type['other']", 
      "    else:", 
      "        if l in count_type:", 
      "            d=count_type[l]", 
      "        else:", 
      "            count_type[l]=dict()", 
      "            d=count_type[l]", 
      "    if s in d:", 
      "        d[s]+=1", 
      "    else:", 
      "        d[s]=1"
     ], 
     "language": "python", 
     "outputs": [], 
     "prompt_number": 60
    }, 
    {
     "cell_type": "code", 
     "collapsed": false, 
     "input": [
      "count={}", 
      "count['other']=0", 
      "for l in count_lang_i:", 
      "    if l in other:", 
      "        count['other']+=count_lang_i[l]", 
      "    else:", 
      "        count[l]=count_lang_i[l]", 
      "", 
      "tlang=['en', 'jp', 'por', 'spa', 'ger', 'fr', 'other']", 
      "labels=[]", 
      "for l in tlang:", 
      "    labels.append(l+\" (\"+str(int(count_type[l][1]/(count_type[l][1]+count_type[l][0])*100))+\"%)\")", 
      "tcounts=[count[l] for l in tlang]", 
      "explode=[0.05]+[0]*(len(tcounts)-1)", 
      "# make a square figure and axes", 
      "figure(1, figsize=(6,6))", 
      "ax = axes([0.1, 0.1, 0.8, 0.8])", 
      "pie(tcounts, explode= explode, labels=labels, autopct='%1.f%%', shadow=False, colors=('b', 'g', 'r', 'c', 'm', 'y', 'w'))", 
      "savefig(\"lang_infered.eps\", bbox_inches='tight')"
     ], 
     "language": "python", 
     "outputs": [], 
     "prompt_number": 96
    }, 
    {
     "cell_type": "code", 
     "collapsed": true, 
     "input": [
      "counts={}", 
      "counts_ham={}", 
      "counts_spam={}", 
      "for key in tweets:", 
      "    d=tweets[key]['date']", 
      "    if d in counts:", 
      "        counts[d]+=1", 
      "    else:", 
      "        counts[d]=1", 
      "    if tweets[key]['label'] == 0:", 
      "        if d in counts_ham:", 
      "            counts_ham[d]+=1", 
      "        else:", 
      "            counts_ham[d]=1", 
      "    if tweets[key]['label'] == 1:", 
      "        if d in counts_spam:", 
      "            counts_spam[d]+=1", 
      "        else:", 
      "            counts_spam[d]=1"
     ], 
     "language": "python", 
     "outputs": [], 
     "prompt_number": 76
    }, 
    {
     "cell_type": "code", 
     "collapsed": false, 
     "input": [
      "N, Nh, Ns = sum(counts.values()), sum(counts_ham.values()), sum(counts_spam.values())", 
      "", 
      "x=array(counts.keys())", 
      "y=array(counts.values())", 
      "ix=argsort(x)", 
      "", 
      "xh=array(counts_ham.keys())", 
      "yh=array(counts_ham.values())", 
      "ixh=argsort(xh)", 
      "", 
      "xs=array(counts_spam.keys())", 
      "ys=array(counts_spam.values())", 
      "ixs=argsort(xs)", 
      "", 
      "ax=subplot(111)", 
      "semilogy(x[ix], y[ix], '--o', label=\"Total 218,671\", color='b')", 
      "semilogy(xs[ixs], ys[ixs], '--o', label=\"Spam 171,110 (78%)\", color='r')", 
      "semilogy(xh[ixh], yh[ixh], '--o', label=\"Ham 47,561 (22%)\", color='g')", 
      "legend(loc=0)", 
      "ylabel(\"Number of tweets (log scale)\")", 
      "minorLocator   = MultipleLocator(1)", 
      "ax.xaxis.set_minor_locator(minorLocator)", 
      "grid(which='major', axis='both')", 
      "grid(which='minor', axis='x')", 
      "savefig(\"tweets_per_day.eps\", bbox_inches='tight')"
     ], 
     "language": "python", 
     "outputs": [], 
     "prompt_number": 95
    }, 
    {
     "cell_type": "code", 
     "collapsed": true, 
     "input": [], 
     "language": "python", 
     "outputs": [], 
     "prompt_number": 100
    }, 
    {
     "cell_type": "code", 
     "collapsed": false, 
     "input": [], 
     "language": "python", 
     "outputs": [], 
     "prompt_number": 100
    }, 
    {
     "cell_type": "code", 
     "collapsed": true, 
     "input": [], 
     "language": "python", 
     "outputs": [], 
     "prompt_number": "&nbsp;"
    }
   ]
  }
 ]
}