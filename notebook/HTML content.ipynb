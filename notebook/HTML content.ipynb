{
 "metadata": {
  "name": "HTML content"
 }, 
 "nbformat": 2, 
 "worksheets": [
  {
   "cells": [
    {
     "cell_type": "code", 
     "collapsed": true, 
     "input": [
      "from __future__ import print_function, division", 
      "import sys, re, ujson, tarfile", 
      "from pprint import pprint", 
      "from traceback import print_exc", 
      "from text_processing import normalize", 
      "from html2text import bytes_to_text", 
      "import cPickle"
     ], 
     "language": "python", 
     "outputs": [], 
     "prompt_number": 2
    }, 
    {
     "cell_type": "code", 
     "collapsed": false, 
     "input": [
      "tweetinfo=cPickle.load(open('tweets+.db', 'r'))"
     ], 
     "language": "python", 
     "outputs": [], 
     "prompt_number": 4
    }, 
    {
     "cell_type": "code", 
     "collapsed": false, 
     "input": [
      "tar=tarfile.open('../sample.tar.gz', 'r:gz')", 
      "i=0", 
      "html=dict()", 
      "for tarinfo in tar:", 
      "    if tarinfo.name[-9:-4]=='tweet':", 
      "        key=tarinfo.name[-42:-10]", 
      "        if key in tweetinfo and tweetinfo[key]['lang_infered']=='en':", 
      "            html[key]=[]", 
      "            try:", 
      "                data=ujson.loads(tar.extractfile(tarinfo).read())", 
      "                for win in data['windows']:", 
      "                    html[key].append(bytes_to_text(win['html']))", 
      "            except:", 
      "                print_exc()", 
      "                print(\"Could not process:\", tarinfo.name, file=sys.stderr)", 
      "            if i%1000 ==0:", 
      "                print(i, end=' ', file=sys.stderr)", 
      "            i+=1"
     ], 
     "language": "python", 
     "outputs": [
      {
       "output_type": "stream", 
       "stream": "stderr", 
       "text": [
        "0 1000"
       ]
      }, 
      {
       "output_type": "stream", 
       "stream": "stderr", 
       "text": [
        " 2000"
       ]
      }, 
      {
       "output_type": "stream", 
       "stream": "stderr", 
       "text": [
        " 3000"
       ]
      }, 
      {
       "output_type": "stream", 
       "stream": "stderr", 
       "text": [
        " 4000"
       ]
      }, 
      {
       "output_type": "stream", 
       "stream": "stderr", 
       "text": [
        " 5000"
       ]
      }, 
      {
       "output_type": "stream", 
       "stream": "stderr", 
       "text": [
        " 6000"
       ]
      }, 
      {
       "output_type": "stream", 
       "stream": "stderr", 
       "text": [
        " 7000"
       ]
      }, 
      {
       "output_type": "stream", 
       "stream": "stderr", 
       "text": [
        " 8000"
       ]
      }, 
      {
       "output_type": "stream", 
       "stream": "stderr", 
       "text": [
        " 9000"
       ]
      }, 
      {
       "output_type": "stream", 
       "stream": "stderr", 
       "text": [
        " 10000"
       ]
      }, 
      {
       "output_type": "stream", 
       "stream": "stderr", 
       "text": [
        " 11000"
       ]
      }, 
      {
       "output_type": "stream", 
       "stream": "stderr", 
       "text": [
        " 12000"
       ]
      }, 
      {
       "output_type": "stream", 
       "stream": "stderr", 
       "text": [
        " 13000"
       ]
      }, 
      {
       "output_type": "stream", 
       "stream": "stderr", 
       "text": [
        " 14000"
       ]
      }, 
      {
       "output_type": "stream", 
       "stream": "stderr", 
       "text": [
        " Traceback (most recent call last):"
       ]
      }, 
      {
       "ename": "KeyboardInterrupt", 
       "evalue": "", 
       "output_type": "pyerr", 
       "traceback": [
        "<span class=\"ansired\">---------------------------------------------------------------------------</span>\n<span class=\"ansired\">KeyboardInterrupt</span>                         Traceback (most recent call last)", 
        "<span class=\"ansigreen\">/Users/akant/cs261n/porthos/&lt;ipython-input-5-3c3e772bb038&gt;</span> in <span class=\"ansicyan\">&lt;module&gt;</span><span class=\"ansiblue\">()</span>\n<span class=\"ansigreen\">      2</span> i<span class=\"ansiblue\">=</span><span class=\"ansicyan\">0</span><span class=\"ansiblue\"></span>\n<span class=\"ansigreen\">      3</span> html<span class=\"ansiblue\">=</span>dict<span class=\"ansiblue\">(</span><span class=\"ansiblue\">)</span><span class=\"ansiblue\"></span>\n<span class=\"ansigreen\">----&gt; 4</span><span class=\"ansired\"> </span><span class=\"ansigreen\">for</span> tarinfo <span class=\"ansigreen\">in</span> tar<span class=\"ansiblue\">:</span><span class=\"ansiblue\"></span>\n<span class=\"ansigreen\">      5</span>     <span class=\"ansigreen\">if</span> tarinfo<span class=\"ansiblue\">.</span>name<span class=\"ansiblue\">[</span><span class=\"ansiblue\">-</span><span class=\"ansicyan\">9</span><span class=\"ansiblue\">:</span><span class=\"ansiblue\">-</span><span class=\"ansicyan\">4</span><span class=\"ansiblue\">]</span><span class=\"ansiblue\">==</span><span class=\"ansiblue\">&apos;tweet&apos;</span><span class=\"ansiblue\">:</span><span class=\"ansiblue\"></span>\n<span class=\"ansigreen\">      6</span>         key<span class=\"ansiblue\">=</span>tarinfo<span class=\"ansiblue\">.</span>name<span class=\"ansiblue\">[</span><span class=\"ansiblue\">-</span><span class=\"ansicyan\">42</span><span class=\"ansiblue\">:</span><span class=\"ansiblue\">-</span><span class=\"ansicyan\">10</span><span class=\"ansiblue\">]</span><span class=\"ansiblue\"></span>\n", 
        "<span class=\"ansigreen\">/usr/local/Cellar/python/2.7.2/lib/python2.7/tarfile.pyc</span> in <span class=\"ansicyan\">next</span><span class=\"ansiblue\">(self)</span>\n<span class=\"ansigreen\">   2468</span>         <span class=\"ansired\"># which will cause TarIter to stop prematurely.</span>\n<span class=\"ansiblue\"></span>\n<span class=\"ansigreen\">   2469</span>         <span class=\"ansigreen\">if</span> <span class=\"ansigreen\">not</span> self<span class=\"ansiblue\">.</span>tarfile<span class=\"ansiblue\">.</span>_loaded<span class=\"ansiblue\">:</span><span class=\"ansiblue\"></span>\n<span class=\"ansigreen\">-&gt; 2470</span><span class=\"ansired\">             </span>tarinfo <span class=\"ansiblue\">=</span> self<span class=\"ansiblue\">.</span>tarfile<span class=\"ansiblue\">.</span>next<span class=\"ansiblue\">(</span><span class=\"ansiblue\">)</span><span class=\"ansiblue\"></span>\n<span class=\"ansigreen\">   2471</span>             <span class=\"ansigreen\">if</span> <span class=\"ansigreen\">not</span> tarinfo<span class=\"ansiblue\">:</span><span class=\"ansiblue\"></span>\n<span class=\"ansigreen\">   2472</span>                 self<span class=\"ansiblue\">.</span>tarfile<span class=\"ansiblue\">.</span>_loaded <span class=\"ansiblue\">=</span> True<span class=\"ansiblue\"></span>\n", 
        "<span class=\"ansigreen\">/usr/local/Cellar/python/2.7.2/lib/python2.7/tarfile.pyc</span> in <span class=\"ansicyan\">next</span><span class=\"ansiblue\">(self)</span>\n<span class=\"ansigreen\">   2317</span> <span class=\"ansiblue\"></span>\n<span class=\"ansigreen\">   2318</span>         <span class=\"ansired\"># Read the next block.</span>\n<span class=\"ansiblue\"></span>\n<span class=\"ansigreen\">-&gt; 2319</span><span class=\"ansired\">         </span>self<span class=\"ansiblue\">.</span>fileobj<span class=\"ansiblue\">.</span>seek<span class=\"ansiblue\">(</span>self<span class=\"ansiblue\">.</span>offset<span class=\"ansiblue\">)</span><span class=\"ansiblue\"></span>\n<span class=\"ansigreen\">   2320</span>         tarinfo <span class=\"ansiblue\">=</span> None<span class=\"ansiblue\"></span>\n<span class=\"ansigreen\">   2321</span>         <span class=\"ansigreen\">while</span> True<span class=\"ansiblue\">:</span><span class=\"ansiblue\"></span>\n", 
        "<span class=\"ansigreen\">/usr/local/Cellar/python/2.7.2/lib/python2.7/gzip.pyc</span> in <span class=\"ansicyan\">seek</span><span class=\"ansiblue\">(self, offset, whence)</span>\n<span class=\"ansigreen\">    422</span>                 self<span class=\"ansiblue\">.</span>rewind<span class=\"ansiblue\">(</span><span class=\"ansiblue\">)</span><span class=\"ansiblue\"></span>\n<span class=\"ansigreen\">    423</span>             count <span class=\"ansiblue\">=</span> offset <span class=\"ansiblue\">-</span> self<span class=\"ansiblue\">.</span>offset<span class=\"ansiblue\"></span>\n<span class=\"ansigreen\">--&gt; 424</span><span class=\"ansired\">             </span><span class=\"ansigreen\">for</span> i <span class=\"ansigreen\">in</span> range<span class=\"ansiblue\">(</span>count <span class=\"ansiblue\">//</span> <span class=\"ansicyan\">1024</span><span class=\"ansiblue\">)</span><span class=\"ansiblue\">:</span><span class=\"ansiblue\"></span>\n<span class=\"ansigreen\">    425</span>                 self<span class=\"ansiblue\">.</span>read<span class=\"ansiblue\">(</span><span class=\"ansicyan\">1024</span><span class=\"ansiblue\">)</span><span class=\"ansiblue\"></span>\n<span class=\"ansigreen\">    426</span>             self<span class=\"ansiblue\">.</span>read<span class=\"ansiblue\">(</span>count <span class=\"ansiblue\">%</span> <span class=\"ansicyan\">1024</span><span class=\"ansiblue\">)</span><span class=\"ansiblue\"></span>\n", 
        "<span class=\"ansired\">KeyboardInterrupt</span>: "
       ]
      }, 
      {
       "output_type": "stream", 
       "stream": "stderr", 
       "text": [
        "  File &quot;&lt;ipython-input-5-3c3e772bb038&gt;&quot;, line 12, in &lt;module&gt;", 
        "    html[key].append(bytes_to_text(win[&apos;html&apos;]))", 
        "  File &quot;html2text.py&quot;, line 4, in bytes_to_text", 
        "    elinks=Popen([&quot;elinks&quot;, &quot;-dump&quot;, &quot;-no-references&quot;, &quot;-no-numbering&quot;, &quot;-dump-charset&quot;, &quot;utf-8&quot;], stdin=PIPE, stdout=PIPE)", 
        "  File &quot;/usr/local/Cellar/python/2.7.2/lib/python2.7/subprocess.py&quot;, line 679, in __init__", 
        "    errread, errwrite)", 
        "  File &quot;/usr/local/Cellar/python/2.7.2/lib/python2.7/subprocess.py&quot;, line 1213, in _execute_child", 
        "    data = _eintr_retry_call(os.read, errpipe_read, 1048576)", 
        "  File &quot;/usr/local/Cellar/python/2.7.2/lib/python2.7/subprocess.py&quot;, line 478, in _eintr_retry_call", 
        "    return func(*args)", 
        "KeyboardInterrupt", 
        "Could not process: sample/7f523efc0676327f3f9a4ff02ce6383e.tweet.log"
       ]
      }
     ], 
     "prompt_number": 5
    }, 
    {
     "cell_type": "code", 
     "collapsed": false, 
     "input": [
      "html=cPickle.load(open('html.db', 'r'))"
     ], 
     "language": "python", 
     "outputs": [], 
     "prompt_number": 8
    }, 
    {
     "cell_type": "code", 
     "collapsed": false, 
     "input": [
      "html.keys()[:10]"
     ], 
     "language": "python", 
     "outputs": [
      {
       "output_type": "pyout", 
       "prompt_number": 10, 
       "text": [
        "[&apos;595ae6f24cb741b1d0121a19a5fcd440&apos;,", 
        " &apos;f97bbbfc63aeaff71897bbc670862ad4&apos;,", 
        " &apos;c8e7f722c7a572c0bd0d2297516eb30c&apos;,", 
        " &apos;c61da24024eaf289f5c06e2991a20343&apos;,", 
        " &apos;2f8186c996dcfb0383b4739f075a6508&apos;,", 
        " &apos;e00e9f48a6d5fc5d845f6ed2f8c5984d&apos;,", 
        " &apos;ac5b76b92ab1e5e9d2e758f9a03c7762&apos;,", 
        " &apos;07c1e1c2376c0a295860abd3f0919d90&apos;,", 
        " &apos;5a0590a3ab96e35dd124afe747986edd&apos;,", 
        " &apos;d6c8b6f8570ec98c3c21debd370be314&apos;]"
       ]
      }
     ], 
     "prompt_number": 10
    }, 
    {
     "cell_type": "code", 
     "collapsed": false, 
     "input": [
      "html['595ae6f24cb741b1d0121a19a5fcd440']"
     ], 
     "language": "python", 
     "outputs": [
      {
       "output_type": "pyout", 
       "prompt_number": 11, 
       "text": [
        "[u&apos;   Link: Posts on \\&apos;LeftWatch\\&apos; (Atom) (alternate)\\n   Link: Posts on \\&apos;LeftWatch\\&apos; (RSS 1.0) (alternate)\\n   Link: Posts on \\&apos;LeftWatch\\&apos; (RSS 2.0) (alternate)\\n   Link: Comments on \\&apos;Tories launch operation to paint the Milibands as a\\n   dangerous risk to the nation\\&apos;s finances\\&apos; (Atom) (alternate)\\n   Link: Comments on \\&apos;Tories launch operation to paint the Milibands as a\\n   dangerous risk to the nation\\&apos;s finances\\&apos; (RSS 2.0) (alternate)\\n   Link: Home (start)\\n   Link: 65% of Liberal Democrat members see themselves as left-of-centre\\n   (previous)\\n   IFrame\\n   IFrame: _rlcdnjsframe\\n\\n                                   LeftWatch\\n\\n     * [IMG]\\n     * [IMG]\\n     * [IMG]\\n     * [IMG]\\n     * [IMG]\\n     * [IMG]\\n     * [IMG]\\n     * [IMG]\\n     * [IMG]\\n     * [IMG]\\n\\n   \\xab 65% of Liberal Democrat members see themselves as left-of-centre | Main\\n\\nSeptember 24, 2010\\n\\n  Tories launch operation to paint the Milibands as a dangerous risk to the\\n  nation\\&apos;s finances\\n\\n   By Tim Montgomerie\\n\\n   During the Labour leadership race the Tories kept their guns quiet but, as\\n   I blogged before, they were watching closely:\\n\\n     &quot;A senior campaigner at CCHQ was telling me that all of the Labour\\n     leadership candidates have significant weaknesses that he is looking\\n     forward to probing. The initial plan is to contrast Cameron and Clegg as\\n     strong leaders, taking the tough decisions, with a Labour leader who\\n     ducks the tough choices. My source tells me that Labour\\&apos;s multiple\\n     hustings have provided a goldmine of attack strategies for each of the\\n     leading candidates and the ammunition is being safely stored for when it\\n     is needed.&quot;\\n\\n   The ammo is leaving the storage depot today.\\n\\n   CCHQ believe that very difficult times lie ahead for the Coalition. They\\n   expect big Labour leads in the opinion polls within a few months but, as\\n   of tomorrow, they are also glad to finally have a Labour leader in place.\\n   &quot;We\\&apos;ve now got someone to shoot at,&quot; I was told yesterday and the shooting\\n   has started...\\n\\n   On Platform today George Eustice MP (Cameron\\&apos;s former press secretary)\\n   contrasts the exciting, &quot;cathartic&quot; Conservative leadership race of 2005\\n   with today\\&apos;s dull and uninspiring Labour race.\\n\\n   But the most significant shooter this morning is Matt Hancock MP. Chief of\\n   Staff to George Osborne until just before the General Election. Mr Hancock\\n   was in The Times yesterday defending his former master\\&apos;s economic\\n   strategy. Today he launches a dossier on the unfunded spending commitments\\n   of David and Ed Miliband, made during the Labour leadership race.\\n   Interestingly the dossier was released via CCHQ. Hancock\\&apos;s is not a\\n   freelance operation. If emails could be fingerprint checked I suspect Mr\\n   Osborne would have left more than a few marks.\\n\\n   Matt Hancock\\&apos;s dossier accuses the two frontrunners of making unfunded\\n   promises of \\xa367 billion in Ed Miliband\\&apos;s case and \\xa355bn in David\\n   Miliband\\&apos;s case:\\n\\n   [IMG] The dossier is called %u2018What Would You Cut, Mr Miliband?%u2019.*\\n\\n   It is based on adding up three things:\\n\\n   1. The fact both candidates have backed Alistair Darling\\&apos;s plan for \\xa344bn\\n   of deficit reduction.\\n\\n   2. Their opposition to Coalition measures to reduce the deficit, including\\n   the rise in VAT and the freeze in public spending.\\n\\n   3. New spending commitments that they have made while playing to the\\n   Labour gallery in the leadership contest. These commitments include a\\n   national living wage for public sector workers, electrification of the\\n   transport network and a \\&apos;National Care Service\\&apos;.\\n\\n   CCHQ Believe that either Miliband can be painted, over time, as a\\n   dangerous risk to the nation\\&apos;s finances. They think Ed Miliband is much\\n   the easier target and they can\\&apos;t believe their luck that he is now the\\n   favourite to be announced Labour leader tomorrow.\\n\\n   * Download PDF of &quot;WHAT WOULD YOU CUT MR MILIBAND?&quot;\\n\\n   Posted at 08:51 AM in David Miliband, Ed Miliband | Permalink\\n\\n   IFrame: favbutton-6a00d83451b31c69e2013487ac3463970c\\n   | Reblog (0)\\n\\n  Comments\\n\\n   Ultimo Tiger said...\\n\\n   Are we not spending too much time attacking Liebour and not doing enough\\n   to advertise the coalition?\\n\\n   These attacks can backfire you know.\\n\\n   Reply September 24, 2010 at 09:24 AM\\n   Phileas said...\\n\\n   I think that we should concentrate on what the labour party did to our\\n   nations finances by opening the books to the public not going after the\\n   man.\\n\\n   That will naturally follow from a candid appreciation of the problems we\\n   face as a result of their corporate stupidity without the accusation of\\n   personality assasination.\\n\\n   Reply September 24, 2010 at 09:38 AM\\n   It doesn\\&apos;t add up... said in reply to Phileas...\\n\\n   I think you are right: it was actually one of the best bits of Cable\\&apos;s\\n   speech, unsung due to the other controversies he was provoking.\\n\\n   Reply September 24, 2010 at 10:22 AM\\n   Tom said...\\n\\n   Doesn\\&apos;t matter how good or bad the Milibands are. Parties don\\&apos;t win\\n   elections, governments lose them. And after the impending spending cuts\\n   and massive unemployment have worked their way through the system this\\n   coalition government will almost certainly lose the next election.\\n\\n   Reply September 24, 2010 at 10:04 AM\\n   Kevin Davis said...\\n\\n   I have no problems wit this strategy providing we do not spend so much\\n   time attacking the opposition that we forget to put our own case. The\\n   danger is we end up being defined by our attacks and not our strengths.\\n\\n   Reply September 24, 2010 at 10:24 AM\\n   Irene said...\\n\\n   Statesmanlike Cameron will easily deal with either Miliband - just take\\n   pot shots as required.\\n\\n   Reply September 24, 2010 at 10:44 AM\\n   Comment below or sign in with TypePad Facebook Twitter and more...\\n   IFrame: comments-post-iframe\\n   [IMG]\\n   Tories launch operation to paint the Milibands as a dangerous risk to the\\n   nation\\&apos;s finances\\n\\n   By Tim Montgomerie\\n\\n   During the Labour leadership race the Tories kept their guns quiet but, as\\n   I blogged before, they were watching closely:\\n\\n     &quot;A senior campaigner at CCHQ was telling me that all of the Labour\\n     leadership candidates have significant weaknesses that he is looking\\n     forward to probing. The initial plan is to contrast Cameron and Clegg as\\n     strong leaders, taking the tough decisions, with a Labour leader who\\n     ducks the tough choices. My source tells me that Labour\\&apos;s multiple\\n     hustings have provided a goldmine of attack strategies for each of the\\n     leading candidates and the ammunition is being safely stored for when it\\n     is needed.&quot;\\n\\n   The ammo is leaving the storage depot today.\\n\\n   CCHQ believe that very difficult times lie ahead for the Coalition. They\\n   expect big Labour leads in the opinion polls within a few months but, as\\n   of tomorrow, they are also glad to finally have a Labour leader in place.\\n   &quot;We\\&apos;ve now got someone to shoot at,&quot; I was told yesterday and the shooting\\n   has started...\\n\\n   On Platform today George Eustice MP (Cameron\\&apos;s former press secretary)\\n   contrasts the exciting, &quot;cathartic&quot; Conservative leadership race of 2005\\n   with today\\&apos;s dull and uninspiring Labour race.\\n\\n   But the most significant shooter this morning is Matt Hancock MP. Chief of\\n   Staff to George Osborne until just before the General Election. Mr Hancock\\n   was in The Times yesterday defending his former master\\&apos;s economic\\n   strategy. Today he launches a dossier on the unfunded spending commitments\\n   of David and Ed Miliband, made during the Labour leadership race.\\n   Interestingly the dossier was released via CCHQ. Hancock\\&apos;s is not a\\n   freelance operation. If emails could be fingerprint checked I suspect Mr\\n   Osborne would have left more than a few marks.\\n\\n   Matt Hancock\\&apos;s dossier accuses the two frontrunners of making unfunded\\n   promises of \\xa367 billion in Ed Miliband\\&apos;s case and \\xa355bn in David\\n   Miliband\\&apos;s case:\\n\\n   [IMG] The dossier is called %u2018What Would You Cut, Mr Miliband?%u2019.*\\n\\n   It is based on adding up three things:\\n\\n   1. The fact both candidates have backed Alistair Darling\\&apos;s plan for \\xa344bn\\n   of deficit reduction.\\n\\n   2. Their opposition to Coalition measures to reduce the deficit, including\\n   the rise in VAT and the freeze in public spending.\\n\\n   3. New spending commitments that they have made while playing to the\\n   Labour gallery in the leadership contest. These commitments include a\\n   national living wage for public sector workers, electrification of the\\n   transport network and a \\&apos;National Care Service\\&apos;.\\n\\n   CCHQ Believe that either Miliband can be painted, over time, as a\\n   dangerous risk to the nation\\&apos;s finances. They think Ed Miliband is much\\n   the easier target and they can\\&apos;t believe their luck that he is now the\\n   favourite to be announced Labour leader tomorrow.\\n\\n   * Download PDF of &quot;WHAT WOULD YOU CUT MR MILIBAND?&quot;\\n\\n   View the entire comment thread.\\n\\nCategories\\n\\n     * Alistair Darling\\n     * David Cameron\\n     * David Miliband\\n     * Dirty Tricks Labour\\n     * Ed Balls\\n     * Ed Miliband\\n     * Gordon Brown\\n     * Green Party\\n     * Harriet Harman\\n     * John Prescott\\n     * Ken Livingstone\\n     * Labour failure\\n     * Labour foreign policy\\n     * Labour hypocrisy\\n     * Labour leadership race\\n     * Labour lies\\n     * Labour tactics and strategy\\n     * Lib-Labbery\\n     * LibDem Left\\n     * Liberal Democrats\\n     * Light relief\\n     * London Mayor\\n     * London mayoral race\\n     * Lurching Left\\n     * Media coverage\\n     * Nasty stuff\\n     * Nick Clegg\\n     * Opinion Polls\\n     * Order of the O.T.T.\\n     * Politicised charities and appointments\\n     * PollyWatch\\n     * Scorched earth\\n     * Simon Hughes\\n     * SNP\\n     * The Left on the Web\\n     * Tony Blair\\n     * Trade unions\\n     * Video\\n     * Waste, waste and waste\\n\\nRecent Comments\\n\\n     * Irene on Tories launch operation to paint the Milibands as a dangerous\\n       risk to the nation\\&apos;s finances\\n     * Kevin Davis on Tories launch operation to paint the Milibands as a\\n       dangerous risk to the nation\\&apos;s finances\\n     * It doesn\\&apos;t add up... on Tories launch operation to paint the Milibands\\n       as a dangerous risk to the nation\\&apos;s finances\\n     * Tom on Tories launch operation to paint the Milibands as a dangerous\\n       risk to the nation\\&apos;s finances\\n     * Phileas on Tories launch operation to paint the Milibands as a\\n       dangerous risk to the nation\\&apos;s finances\\n     * Ultimo Tiger on Tories launch operation to paint the Milibands as a\\n       dangerous risk to the nation\\&apos;s finances\\n     * jo on Unison sets out how it intends holding Labour to ransom over the\\n       coming years\\n     * Examples of Leaflet on Labour use dishonest leaflets to scare\\n       pensioners about Tory plans\\n     * Bryan on 65% of Liberal Democrat members see themselves as\\n       left-of-centre\\n     * Mr Angry on 65% of Liberal Democrat members see themselves as\\n       left-of-centre\\n\\nRecent Posts\\n\\n     * Tories launch operation to paint the Milibands as a dangerous risk to\\n       the nation\\&apos;s finances\\n     * 65% of Liberal Democrat members see themselves as left-of-centre\\n     * Labour bashing Chris Grayling reveals that 1.4 million Britons have\\n       NEVER had a job\\n     * Ed \\&apos;Forest Gump\\&apos; Miliband ahead in shock poll of Labour\\&apos;s electoral\\n       college\\n     * Only two of Labour\\&apos;s putative leaders know when St George\\&apos;s Day is\\n     * Unison sets out how it intends holding Labour to ransom over the\\n       coming years\\n     * A key to Gordon Brown\\n     * Gordon Brown\\&apos;s first parliamentary act since the general election will\\n       be to vote against something he claimed he favoured\\n     * What Gordon Brown did next...\\n     * Blair\\&apos;s view on Iran is clear. What\\&apos;s that of the Miliband brothers?\\n\\n   Blog powered by TypePad\\n   [IMG]\\n   ConservativeHome\\n   IFrame\\n   1 Following\\n   24 Followers\\n   [IMG]\\n\\nArchives\\n\\n     * September 2010\\n     * August 2010\\n     * July 2010\\n     * June 2010\\n     * May 2010\\n     * April 2010\\n     * March 2010\\n     * February 2010\\n     * January 2010\\n     * December 2009\\n\\nCategories\\n\\n     * Alistair Darling\\n     * David Cameron\\n     * David Miliband\\n     * Dirty Tricks Labour\\n     * Ed Balls\\n     * Ed Miliband\\n     * Gordon Brown\\n     * Green Party\\n     * Harriet Harman\\n     * John Prescott\\n     * Ken Livingstone\\n     * Labour failure\\n     * Labour foreign policy\\n     * Labour hypocrisy\\n     * Labour leadership race\\n     * Labour lies\\n     * Labour tactics and strategy\\n     * Lib-Labbery\\n     * LibDem Left\\n     * Liberal Democrats\\n     * Light relief\\n     * London Mayor\\n     * London mayoral race\\n     * Lurching Left\\n     * Media coverage\\n     * Nasty stuff\\n     * Nick Clegg\\n     * Opinion Polls\\n     * Order of the O.T.T.\\n     * Politicised charities and appointments\\n     * PollyWatch\\n     * Scorched earth\\n     * Simon Hughes\\n     * SNP\\n     * The Left on the Web\\n     * Tony Blair\\n     * Trade unions\\n     * Video\\n     * Waste, waste and waste\\n\\n   Subscribe to this blog\\&apos;s feed\\n   Subscribe to this blog\\&apos;s feed\\n\\n     * [IMG]\\n     * [IMG]\\n     * [IMG]\\n     * [IMG]\\n     * [IMG]\\n     * [IMG]\\n     * [IMG]\\n     * [IMG]\\n     * [IMG]\\n\\n     * My Blog\\n     * Powered by TypePad\\n\\n   [IMG]\\n   IFrame: LOTCCFrameFri Sep 24 2010 10:04:44 GMT+0000 (UTC)\\n   IFrame: typepad_controls\\n   Favorite 0\\n   A Favorite 1\\n\\n  Verify your Comment\\n\\n  Previewing your Comment\\n\\n   This is only a preview. Your comment has not yet been posted.\\n\\n   [  Post  ] [   Edit   ]\\n   Your comment could not be posted. Error type:\\n\\n   The letters and numbers you entered did not match the image. Please try\\n   again.\\n\\n   As a final step before posting your comment, enter the letters and numbers\\n   you see in the image below. This prevents automated programs from posting\\n   comments.\\n\\n   Having trouble reading this image? View an alternate.\\n\\n   ___________\\n\\n   [  Continue  ]\\n\\n   _______________________________\\n   _______________________________\\n   _______________________________\\n   _______________________________\\n   _______________________________\\n   _______________________________\\n   _______________________________\\n   _______________________________\\n   _______________________________\\n   _______________________________\\n\\n   (You can use HTML tags like &lt;b&gt; &lt;i&gt; and &lt;ul&gt; to style your text. URLs\\n   automatically linked.)\\n\\n   Email address is not displayed with comment.\\n\\n   _______________________________ Name is required to post a comment\\n\\n   _______________________________ Please enter a valid email address\\n\\n   _______________________________ Invalid URL\\n\\n   [  Post  ] [  Preview  ]\\n                                    Follow\\n                                     IFrame\\n   TypePad Toolbar\\n   TypePad\\n   Follow ConservativeHome\\n   Reblog It\\n   Start your free blog now\\n   Sign In\\n&apos;]"
       ]
      }
     ], 
     "prompt_number": 11
    }, 
    {
     "cell_type": "code", 
     "collapsed": true, 
     "input": [], 
     "language": "python", 
     "outputs": [], 
     "prompt_number": "&nbsp;"
    }
   ]
  }
 ]
}