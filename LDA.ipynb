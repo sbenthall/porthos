{
 "metadata": {
  "name": "LDA"
 }, 
 "nbformat": 2, 
 "worksheets": [
  {
   "cells": [
    {
     "cell_type": "code", 
     "collapsed": true, 
     "input": [
      "import cPickle", 
      "import gensim", 
      "import re"
     ], 
     "language": "python", 
     "outputs": [], 
     "prompt_number": 38
    }, 
    {
     "cell_type": "code", 
     "collapsed": false, 
     "input": [
      "data=cPickle.load(open('data-all.db','r'))"
     ], 
     "language": "python", 
     "outputs": [], 
     "prompt_number": 41
    }, 
    {
     "cell_type": "code", 
     "collapsed": false, 
     "input": [
      "stopwords=set(\"a as able about above according accordingly across actually after afterwards again against aint all allow allows almost alone along already also although always am among amongst an and another any anybody anyhow anyone anything anyway anyways anywhere apart appear appreciate appropriate are arent around as aside ask asking associated at available away awfully be became because become becomes becoming been before beforehand behind being believe below beside besides best better between beyond both brief but by cmon cs came can cant cannot cant cause causes certain certainly changes clearly co com come comes concerning consequently consider considering contain containing contains corresponding could couldnt course currently definitely described despite did didnt different do does doesnt doing dont done down downwards during each edu eg eight either else elsewhere enough entirely especially et etc even ever every everybody everyone everything everywhere ex exactly example except far few fifth first five followed following follows for former formerly forth four from further furthermore get gets getting given gives go goes going gone got gotten greetings had hadnt happens hardly has hasnt have havent having he hes hello help hence her here heres hereafter hereby herein hereupon hers herself hi him himself his hither hopefully how howbeit however id ill im ive ie if ignored immediate in inasmuch inc indeed indicate indicated indicates inner insofar instead into inward is isnt it itd itll its its itself just keep keeps kept know known knows last lately later latter latterly least less lest let lets like liked likely little look looking looks ltd mainly many may maybe me mean meanwhile merely might more moreover most mostly much must my myself name namely nd near nearly necessary need needs neither never nevertheless new next nine no nobody non none noone nor normally not nothing novel now nowhere obviously of off often oh ok okay old on once one ones only onto or other others otherwise ought our ours ourselves out outside over overall own particular particularly per perhaps placed please plus possible presumably probably provides que quite qv rather rd re really reasonably regarding regardless regards relatively respectively right said same saw say saying says second secondly see seeing seem seemed seeming seems seen self selves sensible sent serious seriously seven several shall she should shouldnt since six so some somebody somehow someone something sometime sometimes somewhat somewhere soon sorry specified specify specifying still sub such sup sure ts take taken tell tends th than thank thanks thanx that thats thats the their theirs them themselves then thence there theres thereafter thereby therefore therein theres thereupon these they theyd theyll theyre theyve think third this thorough thoroughly those though three through throughout thru thus to together too took toward towards tried tries truly try trying twice two un under unfortunately unless unlikely until unto up upon us use used useful uses using usually value various very via viz vs want wants was wasnt way we wed well were weve welcome well went were werent what whats whatever when whence whenever where wheres whereafter whereas whereby wherein whereupon wherever whether which while whither who whos whoever whole whom whose why will willing wish with within without wont wonder would wouldnt yes yet you youd youll youre youve your yours yourself yourselves zero\".split(' '))", 
      "stopwords=stopwords.union(set([chr(97+x) for x in range(26)]))", 
      "stopwords=stopwords.union(set('rt st lt pm rd gt ur ya'.split(' ')))", 
      "#stopwords=set([])", 
      "", 
      "p=re.compile(r\"\\w+\")", 
      "", 
      "w2i=dict()", 
      "i2w=dict()", 
      "i=0", 
      "for key in data:", 
      "    if data[key]['lang']=='en' and data[key]['label']==1:", 
      "        for w in p.findall(data[key]['clean'].lower()):", 
      "            if w not in stopwords and w not in w2i:", 
      "                w2i[w]=i", 
      "                i2w[i]=w", 
      "                i+=1", 
      "corpus=[]", 
      "for key in data:", 
      "    if data[key]['lang']=='en' and data[key]['label']==1:", 
      "        corpus.append([(w2i[w], 1) for w in p.findall(data[key]['clean'].lower()) if w not in stopwords])"
     ], 
     "language": "python", 
     "outputs": [], 
     "prompt_number": 98
    }, 
    {
     "cell_type": "code", 
     "collapsed": false, 
     "input": [
      "model=gensim.models.ldamodel.LdaModel(corpus, id2word=i2w, num_topics=25)"
     ], 
     "language": "python", 
     "outputs": [], 
     "prompt_number": 99
    }, 
    {
     "cell_type": "code", 
     "collapsed": false, 
     "input": [
      "#topics_all=model.show_topics(25)", 
      "#topics_ham=model.show_topics(25)", 
      "topics_spam=model.show_topics(25)"
     ], 
     "language": "python", 
     "outputs": [], 
     "prompt_number": 100
    }, 
    {
     "cell_type": "code", 
     "collapsed": false, 
     "input": [
      "topics_all"
     ], 
     "language": "python", 
     "outputs": [
      {
       "output_type": "pyout", 
       "prompt_number": 101, 
       "text": [
        "[u&apos;0.033*watch + 0.018*internet + 0.017*high + 0.017*girl + 0.016*long + 0.015*call + 0.014*fun + 0.013*start + 0.012*art + 0.011*dog&apos;,", 
        " u&apos;0.021*support + 0.020*cool + 0.016*nowplaying + 0.013*makes + 0.013*add + 0.013*yahoo + 0.012*listen + 0.011*fb + 0.010*blue + 0.010*la&apos;,", 
        " u&apos;0.046*good + 0.028*life + 0.027*man + 0.016*york + 0.016*card + 0.015*vote + 0.012*times + 0.009*ways + 0.009*nfl + 0.009*center&apos;,", 
        " u&apos;0.046*make + 0.031*money + 0.026*online + 0.025*great + 0.017*sale + 0.016*house + 0.014*free + 0.013*family + 0.012*women + 0.011*obama&apos;,", 
        " u&apos;0.040*today + 0.022*work + 0.022*business + 0.018*daily + 0.017*article + 0.017*health + 0.017*link + 0.015*weight + 0.015*loss + 0.013*play&apos;,", 
        " u&apos;0.038*facebook + 0.028*year + 0.026*google + 0.022*posted + 0.017*song + 0.017*photos + 0.017*page + 0.016*tv + 0.014*album + 0.014*sports&apos;,", 
        " u&apos;0.038*part + 0.022*big + 0.021*hot + 0.019*justin + 0.015*search + 0.015*red + 0.014*watching + 0.013*android + 0.013*wow + 0.012*bieber&apos;,", 
        " u&apos;0.023*tips + 0.021*real + 0.014*green + 0.014*ipod + 0.013*touch + 0.011*beautiful + 0.011*meet + 0.011*diet + 0.010*change + 0.010*body&apos;,", 
        " u&apos;0.024*home + 0.016*price + 0.015*market + 0.015*stop + 0.014*guide + 0.014*app + 0.013*making + 0.012*products + 0.010*research + 0.010*details&apos;,", 
        " u&apos;0.040*lol + 0.036*cont + 0.024*night + 0.019*read + 0.013*give + 0.011*kids + 0.011*love + 0.011*lmao + 0.010*manager + 0.009*ft&apos;,", 
        " u&apos;0.018*things + 0.016*added + 0.016*event + 0.014*friday + 0.011*sexy + 0.010*services + 0.010*edition + 0.010*guy + 0.010*special + 0.010*international&apos;,", 
        " u&apos;0.047*free + 0.039*twitter + 0.031*top + 0.025*music + 0.021*download + 0.017*ipad + 0.017*mobile + 0.016*followers + 0.015*update + 0.013*lastfm&apos;,", 
        " u&apos;0.029*website + 0.015*list + 0.013*found + 0.013*nice + 0.012*games + 0.011*hit + 0.009*updated + 0.009*cute + 0.009*launches + 0.009*wordpress&apos;,", 
        " u&apos;0.018*listening + 0.015*happy + 0.015*save + 0.013*tonight + 0.013*baby + 0.012*power + 0.012*set + 0.011*tcot + 0.010*deal + 0.010*playing&apos;,", 
        " u&apos;0.029*jobs + 0.021*game + 0.021*iphone + 0.017*job + 0.017*full + 0.016*season + 0.015*amazing + 0.015*sales + 0.014*network + 0.014*car&apos;,", 
        " u&apos;0.091*check + 0.042*love + 0.028*live + 0.027*people + 0.024*video + 0.020*join + 0.015*mine + 0.014*giving + 0.014*gift + 0.013*free&apos;,", 
        " u&apos;0.057*blog + 0.046*post + 0.023*site + 0.015*design + 0.015*show + 0.014*awesome + 0.013*coming + 0.011*project + 0.011*united + 0.011*sign&apos;,", 
        " u&apos;0.054*photo + 0.022*made + 0.017*win + 0.012*group + 0.012*enter + 0.011*report + 0.011*learn + 0.011*san + 0.010*run + 0.010*fast&apos;,", 
        " u&apos;0.019*party + 0.019*black + 0.017*story + 0.016*team + 0.015*fashion + 0.015*visit + 0.015*review + 0.014*fall + 0.014*service + 0.013*week&apos;,", 
        " u&apos;0.027*follow + 0.019*october + 0.018*book + 0.015*system + 0.015*web + 0.014*easy + 0.013*ready + 0.012*tomorrow + 0.012*win + 0.012*giveaway&apos;,", 
        " u&apos;0.019*city + 0.019*september + 0.017*apple + 0.015*sex + 0.012*miss + 0.011*ad + 0.011*constantcontact + 0.010*tech + 0.010*lot + 0.010*de&apos;,", 
        " u&apos;0.078*video + 0.041*youtube + 0.029*social + 0.029*marketing + 0.024*media + 0.023*buy + 0.012*bad + 0.011*series + 0.011*channel + 0.010*online&apos;,", 
        " u&apos;0.033*world + 0.021*latest + 0.018*day + 0.018*friends + 0.016*days + 0.016*school + 0.016*news + 0.014*travel + 0.013*open + 0.012*share&apos;,", 
        " u&apos;0.015*thing + 0.013*film + 0.012*guys + 0.012*face + 0.010*security + 0.010*finally + 0.009*water + 0.009*county + 0.009*fire + 0.008*technology&apos;,", 
        " u&apos;0.018*phone + 0.014*company + 0.014*ap + 0.013*girls + 0.013*official + 0.010*state + 0.009*west + 0.009*white + 0.008*windows + 0.008*global&apos;]"
       ]
      }
     ], 
     "prompt_number": 101
    }, 
    {
     "cell_type": "code", 
     "collapsed": false, 
     "input": [
      "topics_ham"
     ], 
     "language": "python", 
     "outputs": [
      {
       "output_type": "pyout", 
       "prompt_number": 102, 
       "text": [
        "[u&apos;0.020*health + 0.016*million + 0.014*love + 0.013*natural + 0.013*reading + 0.013*beautiful + 0.012*october + 0.012*sex + 0.011*body + 0.011*beauty&apos;,", 
        " u&apos;0.032*good + 0.020*game + 0.016*football + 0.015*travel + 0.014*video + 0.013*car + 0.011*official + 0.010*ways + 0.010*making + 0.009*windows&apos;,", 
        " u&apos;0.039*listening + 0.021*photo + 0.021*daily + 0.018*live + 0.017*today + 0.016*tips + 0.013*show + 0.012*happy + 0.011*code + 0.010*stories&apos;,", 
        " u&apos;0.031*constantcontact + 0.016*power + 0.011*fun + 0.010*west + 0.009*friend + 0.008*questions + 0.008*move + 0.008*times + 0.008*energy + 0.007*local&apos;,", 
        " u&apos;0.011*internet + 0.011*care + 0.010*back + 0.009*anti + 0.009*art + 0.009*iphone + 0.008*training + 0.008*end + 0.008*trailer + 0.007*shoes&apos;,", 
        " u&apos;0.020*ap + 0.016*iphone + 0.016*free + 0.015*black + 0.015*follow + 0.015*high + 0.013*twitter + 0.012*amazing + 0.011*security + 0.011*easy&apos;,", 
        " u&apos;0.020*join + 0.014*city + 0.013*film + 0.013*justin + 0.013*meetup + 0.012*development + 0.011*vote + 0.011*group + 0.011*movie + 0.010*news&apos;,", 
        " u&apos;0.022*home + 0.021*mobile + 0.015*weight + 0.014*loss + 0.013*app + 0.013*tips + 0.012*makes + 0.011*hd + 0.010*save + 0.009*digital&apos;,", 
        " u&apos;0.026*read + 0.026*ipad + 0.022*great + 0.015*song + 0.015*family + 0.014*place + 0.012*amazon + 0.010*listen + 0.010*hits + 0.008*updated&apos;,", 
        " u&apos;0.013*god + 0.012*perfect + 0.012*miss + 0.010*morning + 0.010*free + 0.009*school + 0.009*yall + 0.008*street + 0.008*hope + 0.007*set&apos;,", 
        " u&apos;0.019*giveaway + 0.019*win + 0.016*made + 0.015*page + 0.012*awesome + 0.009*hot + 0.009*traffic + 0.009*project + 0.009*checking + 0.008*offers&apos;,", 
        " u&apos;0.029*free + 0.022*hey + 0.021*real + 0.019*ipod + 0.018*apple + 0.018*touch + 0.017*night + 0.015*late + 0.015*click + 0.013*girl&apos;,", 
        " u&apos;0.019*september + 0.017*facebook + 0.014*article + 0.013*yahoo + 0.012*launches + 0.011*friday + 0.010*interesting + 0.009*tool + 0.008*online + 0.008*day&apos;,", 
        " u&apos;0.021*find + 0.020*update + 0.017*book + 0.014*man + 0.014*open + 0.013*lol + 0.011*young + 0.011*hard + 0.009*deal + 0.009*rock&apos;,", 
        " u&apos;0.035*social + 0.033*google + 0.030*media + 0.014*vimeo + 0.014*network + 0.013*link + 0.012*search + 0.012*event + 0.011*post + 0.010*blog&apos;,", 
        " u&apos;0.118*check + 0.042*mine + 0.040*gift + 0.035*giving + 0.034*promo + 0.025*cards + 0.018*site + 0.016*tickets + 0.013*card + 0.011*interview&apos;,", 
        " u&apos;0.024*jobs + 0.014*job + 0.014*products + 0.011*coming + 0.011*survey + 0.010*tv + 0.010*year + 0.009*nowplaying + 0.009*fashion + 0.008*club&apos;,", 
        " u&apos;0.023*day + 0.020*watch + 0.014*video + 0.014*things + 0.013*long + 0.011*season + 0.011*series + 0.009*pay + 0.009*afp + 0.008*album&apos;,", 
        " u&apos;0.054*top + 0.033*lastfm + 0.029*weekly + 0.027*artists + 0.023*marketing + 0.020*business + 0.013*added + 0.013*small + 0.011*online + 0.010*guide&apos;,", 
        " u&apos;0.022*review + 0.016*set + 0.015*full + 0.014*free + 0.013*enter + 0.013*team + 0.012*info + 0.012*story + 0.008*list + 0.008*great&apos;,", 
        " u&apos;0.035*make + 0.030*money + 0.017*sept + 0.017*watching + 0.012*york + 0.011*life + 0.010*tomorrow + 0.010*month + 0.009*police + 0.009*woman&apos;,", 
        " u&apos;0.020*download + 0.017*web + 0.016*free + 0.014*design + 0.011*market + 0.010*stuff + 0.010*obama + 0.010*credit + 0.010*world + 0.009*washington&apos;,", 
        " u&apos;0.018*phone + 0.016*thing + 0.014*play + 0.011*sell + 0.011*picture + 0.010*turns + 0.010*mark + 0.010*totally + 0.010*change + 0.009*cancer&apos;,", 
        " u&apos;0.021*part + 0.016*free + 0.016*support + 0.015*call + 0.013*break + 0.013*blog + 0.011*women + 0.011*vegas + 0.011*days + 0.010*las&apos;,", 
        " u&apos;0.018*green + 0.014*ready + 0.014*friends + 0.011*news + 0.011*healthy + 0.011*nfl + 0.011*sports + 0.009*product + 0.009*california + 0.008*saturday&apos;]"
       ]
      }
     ], 
     "prompt_number": 102
    }, 
    {
     "cell_type": "code", 
     "collapsed": false, 
     "input": [
      "topics_spam"
     ], 
     "language": "python", 
     "outputs": [
      {
       "output_type": "pyout", 
       "prompt_number": 103, 
       "text": [
        "[u&apos;0.017*hot + 0.016*long + 0.016*price + 0.014*stop + 0.014*visit + 0.012*oct + 0.012*save + 0.011*uk + 0.011*sign + 0.011*fb&apos;,", 
        " u&apos;0.042*live + 0.029*people + 0.024*night + 0.023*join + 0.017*music + 0.017*october + 0.016*set + 0.016*party + 0.013*play + 0.013*chat&apos;,", 
        " u&apos;0.020*justin + 0.016*sex + 0.016*story + 0.016*fun + 0.015*design + 0.014*hey + 0.013*part + 0.013*bieber + 0.012*makes + 0.012*white&apos;,", 
        " u&apos;0.024*year + 0.023*website + 0.021*marketing + 0.015*internet + 0.015*business + 0.015*page + 0.015*things + 0.014*full + 0.014*list + 0.012*phone&apos;,", 
        " u&apos;0.031*lol + 0.015*event + 0.015*call + 0.013*women + 0.013*app + 0.013*good + 0.012*android + 0.011*book + 0.011*date + 0.010*men&apos;,", 
        " u&apos;0.015*awesome + 0.013*lmao + 0.013*travel + 0.012*system + 0.012*cont + 0.012*guys + 0.012*pic + 0.011*interview + 0.011*tcot + 0.010*park&apos;,", 
        " u&apos;0.050*blog + 0.042*post + 0.029*part + 0.021*high + 0.018*article + 0.017*google + 0.010*care + 0.010*training + 0.009*parts + 0.009*products&apos;,", 
        " u&apos;0.046*twitter + 0.036*facebook + 0.026*posted + 0.024*free + 0.022*followers + 0.018*photos + 0.018*real + 0.017*september + 0.014*album + 0.014*song&apos;,", 
        " u&apos;0.015*site + 0.012*single + 0.012*lose + 0.012*picture + 0.011*playing + 0.011*code + 0.010*lady + 0.009*police + 0.009*sep + 0.008*official&apos;,", 
        " u&apos;0.020*tips + 0.017*health + 0.014*loss + 0.014*weight + 0.014*end + 0.014*art + 0.012*guide + 0.012*diet + 0.011*run + 0.011*shit&apos;,", 
        " u&apos;0.040*online + 0.027*game + 0.020*sale + 0.018*free + 0.018*days + 0.018*season + 0.018*software + 0.015*iphone + 0.013*service + 0.011*test&apos;,", 
        " u&apos;0.061*photo + 0.031*life + 0.022*happy + 0.014*learn + 0.011*thing + 0.011*month + 0.011*birthday + 0.011*red + 0.009*perfect + 0.009*fat&apos;,", 
        " u&apos;0.038*back + 0.020*house + 0.014*win + 0.012*football + 0.010*review + 0.009*number + 0.009*david + 0.008*details + 0.008*future + 0.008*dead&apos;,", 
        " u&apos;0.017*nowplaying + 0.017*channel + 0.016*youtube + 0.016*found + 0.015*subscribed + 0.012*young + 0.011*talk + 0.010*collection + 0.009*action + 0.009*questions&apos;,", 
        " u&apos;0.021*watch + 0.018*sports + 0.015*movie + 0.014*search + 0.014*coming + 0.012*case + 0.010*sunday + 0.010*bad + 0.009*deal + 0.009*hair&apos;,", 
        " u&apos;0.030*world + 0.024*web + 0.017*apple + 0.015*ipad + 0.014*super + 0.012*tweet + 0.009*tour + 0.009*unlocked + 0.008*free + 0.008*conference&apos;,", 
        " u&apos;0.054*day + 0.049*today + 0.026*work + 0.020*home + 0.020*daily + 0.017*cool + 0.012*green + 0.012*dog + 0.009*working + 0.008*water&apos;,", 
        " u&apos;0.051*cont + 0.025*buy + 0.023*find + 0.015*card + 0.015*place + 0.014*company + 0.011*meet + 0.010*pretty + 0.010*gift + 0.009*true&apos;,", 
        " u&apos;0.018*vote + 0.017*games + 0.014*open + 0.013*favorite + 0.011*face + 0.011*version + 0.009*american + 0.009*dress + 0.009*eat + 0.008*black&apos;,", 
        " u&apos;0.047*make + 0.033*money + 0.019*latest + 0.018*news + 0.018*friends + 0.014*easy + 0.012*online + 0.011*share + 0.011*fast + 0.010*morning&apos;,", 
        " u&apos;0.099*video + 0.063*check + 0.036*youtube + 0.018*top + 0.018*made + 0.012*girls + 0.012*car + 0.010*nice + 0.010*uploaded + 0.010*miss&apos;,", 
        " u&apos;0.028*follow + 0.024*social + 0.022*download + 0.020*media + 0.019*read + 0.018*link + 0.018*click + 0.016*york + 0.015*years + 0.014*girl&apos;,", 
        " u&apos;0.071*love + 0.016*amazing + 0.014*tv + 0.014*family + 0.012*sexy + 0.012*show + 0.011*ready + 0.009*god + 0.009*ft + 0.009*funny&apos;,", 
        " u&apos;0.023*support + 0.016*add + 0.013*listen + 0.011*store + 0.011*services + 0.010*release + 0.010*national + 0.010*press + 0.009*office + 0.009*million&apos;,", 
        " u&apos;0.036*jobs + 0.029*man + 0.027*job + 0.014*sales + 0.014*star + 0.013*team + 0.012*times + 0.012*project + 0.011*london + 0.010*digital&apos;]"
       ]
      }
     ], 
     "prompt_number": 103
    }, 
    {
     "cell_type": "code", 
     "collapsed": true, 
     "input": [], 
     "language": "python", 
     "outputs": [], 
     "prompt_number": "&nbsp;"
    }
   ]
  }
 ]
}